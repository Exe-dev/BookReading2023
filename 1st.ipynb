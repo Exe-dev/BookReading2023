{
 "cells": [
  {
   "cell_type": "code",
   "execution_count": 36,
   "metadata": {},
   "outputs": [],
   "source": [
    "import numpy as np\n",
    "import itertools\n",
    "from tqdm import tqdm"
   ]
  },
  {
   "cell_type": "code",
   "execution_count": 4,
   "metadata": {},
   "outputs": [],
   "source": [
    "\n",
    "with open(\"lm-data/train.txt\", encoding=\"utf8\") as f:\n",
    "    train = f.readlines()\n",
    "with open(\"lm-data/test.txt\", encoding=\"utf8\") as f:\n",
    "    test = f.readlines()\n"
   ]
  },
  {
   "attachments": {},
   "cell_type": "markdown",
   "metadata": {},
   "source": [
    "### 演習3"
   ]
  },
  {
   "cell_type": "code",
   "execution_count": 12,
   "metadata": {},
   "outputs": [
    {
     "name": "stdout",
     "output_type": "stream",
     "text": [
      "train:  309149\n",
      "train unique:  1649\n",
      "test:  15796\n",
      "test unique:  867\n"
     ]
    }
   ],
   "source": [
    "train_split = list(itertools.chain.from_iterable([list(lines) for lines in train]))\n",
    "test_split = list(itertools.chain.from_iterable([list(lines) for lines in test]))\n",
    "print(\"train: \", len(train_split))\n",
    "print(\"train unique: \", len(np.unique(train_split)))\n",
    "print(\"test: \", len(test_split))\n",
    "print(\"test unique: \", len(np.unique(test_split)))"
   ]
  },
  {
   "attachments": {},
   "cell_type": "markdown",
   "metadata": {},
   "source": [
    "### 演習4"
   ]
  },
  {
   "cell_type": "code",
   "execution_count": 32,
   "metadata": {},
   "outputs": [
    {
     "data": {
      "text/plain": [
       "457.1025100609328"
      ]
     },
     "execution_count": 32,
     "metadata": {},
     "output_type": "execute_result"
    }
   ],
   "source": [
    "def zero_gram_lm(test_split:list):\n",
    "    H = (1/len(test_split)) * (-np.log(1/6880)*len(test_split))\n",
    "    ppl = 2**H\n",
    "    return ppl\n",
    "zero_gram_lm(test_split)"
   ]
  },
  {
   "attachments": {},
   "cell_type": "markdown",
   "metadata": {},
   "source": [
    "### 演習5"
   ]
  },
  {
   "cell_type": "code",
   "execution_count": 35,
   "metadata": {},
   "outputs": [
    {
     "name": "stderr",
     "output_type": "stream",
     "text": [
      "100%|██████████| 1649/1649 [00:06<00:00, 266.82it/s]\n",
      "100%|██████████| 15796/15796 [00:00<00:00, 789650.14it/s]\n"
     ]
    },
    {
     "data": {
      "text/plain": [
       "43.51560814901466"
      ]
     },
     "execution_count": 35,
     "metadata": {},
     "output_type": "execute_result"
    }
   ],
   "source": [
    "char_lm_1gram = {}\n",
    "# P(ci)の計算\n",
    "for char in tqdm(np.unique(train_split)):\n",
    "    char_lm_1gram[char] = train_split.count(char)/len(train_split)\n",
    "sigma_pi = 0\n",
    "for char in tqdm(test_split):\n",
    "    # lmに文字が含まれる場合\n",
    "    if char in char_lm_1gram:\n",
    "        sigma_pi += np.log(char_lm_1gram[char])\n",
    "    else:\n",
    "        sigma_pi += np.log(1/6880)\n",
    "H = (-1/len(test_split)) * sigma_pi\n",
    "ppl = 2**H\n",
    "ppl"
   ]
  },
  {
   "attachments": {},
   "cell_type": "markdown",
   "metadata": {},
   "source": [
    "### 演習6"
   ]
  },
  {
   "cell_type": "code",
   "execution_count": 38,
   "metadata": {},
   "outputs": [
    {
     "ename": "Exception",
     "evalue": "Can't find JUMAN command: juman",
     "output_type": "error",
     "traceback": [
      "\u001b[1;31m---------------------------------------------------------------------------\u001b[0m",
      "\u001b[1;31mException\u001b[0m                                 Traceback (most recent call last)",
      "Cell \u001b[1;32mIn[38], line 3\u001b[0m\n\u001b[0;32m      1\u001b[0m \u001b[39mfrom\u001b[39;00m \u001b[39mpyknp\u001b[39;00m \u001b[39mimport\u001b[39;00m Juman\n\u001b[1;32m----> 3\u001b[0m jumanpp \u001b[39m=\u001b[39m Juman(jumanpp\u001b[39m=\u001b[39;49m\u001b[39mFalse\u001b[39;49;00m)\n\u001b[0;32m      4\u001b[0m result \u001b[39m=\u001b[39m jumanpp\u001b[39m.\u001b[39manalysis(\u001b[39m\"\u001b[39m\u001b[39m下鴨神社の参道は暗かった。\u001b[39m\u001b[39m\"\u001b[39m)\n\u001b[0;32m      5\u001b[0m result\n",
      "File \u001b[1;32m~\\AppData\\Local\\Packages\\PythonSoftwareFoundation.Python.3.10_qbz5n2kfra8p0\\LocalCache\\local-packages\\Python310\\site-packages\\pyknp\\juman\\juman.py:66\u001b[0m, in \u001b[0;36mJuman.__init__\u001b[1;34m(self, command, server, port, timeout, option, rcfile, ignorepattern, pattern, jumanpp, multithreading)\u001b[0m\n\u001b[0;32m     64\u001b[0m     \u001b[39mraise\u001b[39;00m \u001b[39mException\u001b[39;00m(\u001b[39m\"\u001b[39m\u001b[39mCan\u001b[39m\u001b[39m'\u001b[39m\u001b[39mt read rcfile (\u001b[39m\u001b[39m%s\u001b[39;00m\u001b[39m)!\u001b[39m\u001b[39m\"\u001b[39m \u001b[39m%\u001b[39m \u001b[39mself\u001b[39m\u001b[39m.\u001b[39mrcfile)\n\u001b[0;32m     65\u001b[0m \u001b[39mif\u001b[39;00m distutils\u001b[39m.\u001b[39mspawn\u001b[39m.\u001b[39mfind_executable(\u001b[39mself\u001b[39m\u001b[39m.\u001b[39mcommand) \u001b[39mis\u001b[39;00m \u001b[39mNone\u001b[39;00m:\n\u001b[1;32m---> 66\u001b[0m     \u001b[39mraise\u001b[39;00m \u001b[39mException\u001b[39;00m(\u001b[39m\"\u001b[39m\u001b[39mCan\u001b[39m\u001b[39m'\u001b[39m\u001b[39mt find JUMAN command: \u001b[39m\u001b[39m%s\u001b[39;00m\u001b[39m\"\u001b[39m \u001b[39m%\u001b[39m \u001b[39mself\u001b[39m\u001b[39m.\u001b[39mcommand)\n",
      "\u001b[1;31mException\u001b[0m: Can't find JUMAN command: juman"
     ]
    }
   ],
   "source": [
    "from pyknp import Juman\n",
    "\n",
    "jumanpp = Juman(jumanpp=False)\n",
    "result = jumanpp.analysis(\"下鴨神社の参道は暗かった。\")\n",
    "result\n"
   ]
  },
  {
   "attachments": {},
   "cell_type": "markdown",
   "metadata": {},
   "source": [
    "### 演習7"
   ]
  },
  {
   "cell_type": "code",
   "execution_count": null,
   "metadata": {},
   "outputs": [],
   "source": []
  },
  {
   "attachments": {},
   "cell_type": "markdown",
   "metadata": {},
   "source": [
    "### 演習8"
   ]
  },
  {
   "cell_type": "code",
   "execution_count": null,
   "metadata": {},
   "outputs": [],
   "source": []
  }
 ],
 "metadata": {
  "kernelspec": {
   "display_name": "Python 3",
   "language": "python",
   "name": "python3"
  },
  "language_info": {
   "codemirror_mode": {
    "name": "ipython",
    "version": 3
   },
   "file_extension": ".py",
   "mimetype": "text/x-python",
   "name": "python",
   "nbconvert_exporter": "python",
   "pygments_lexer": "ipython3",
   "version": "3.10.11"
  },
  "orig_nbformat": 4
 },
 "nbformat": 4,
 "nbformat_minor": 2
}
